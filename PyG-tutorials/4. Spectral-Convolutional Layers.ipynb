{
 "cells": [
  {
   "cell_type": "code",
   "execution_count": 2,
   "id": "c8b99218-69fb-4a94-8580-8212f9def3a9",
   "metadata": {},
   "outputs": [],
   "source": [
    "import numpy as np\n",
    "import matplotlib.pyplot as plt\n",
    "plt.rcParams.update({'font.size': 16})"
   ]
  },
  {
   "cell_type": "markdown",
   "id": "082e7b90-4fda-462d-9c2d-3199a8861ff6",
   "metadata": {},
   "source": [
    "# 1. Reason for convolution"
   ]
  },
  {
   "cell_type": "markdown",
   "id": "986b7ddc-c118-49f8-91d8-0cf5ba98fe18",
   "metadata": {},
   "source": [
    "- Convolutional enforces weight sharing, and we want our model to have parameters independent of $|V|$\n",
    "- Convolution enables detection of translational invariant and local features\n",
    "\n",
    "In 1 dimensions, convolution is defined as\n",
    "$$c[n] = (v * m)[n] = \\sum_{m=0}^{N-1}v[m]w[n-m]$$  "
   ]
  },
  {
   "cell_type": "code",
   "execution_count": 19,
   "id": "342b67d2-f4da-49d9-afd1-3051327a572e",
   "metadata": {},
   "outputs": [],
   "source": [
    "def convolution(v, w):\n",
    "    c = np.zeros(v.shape)\n",
    "    for n in range(len(v)):\n",
    "        for m in range(len(v)):\n",
    "            c[n] += v[m] * w[n-m]\n",
    "            \n",
    "    return c"
   ]
  },
  {
   "cell_type": "code",
   "execution_count": 20,
   "id": "94902f07-f989-43b4-a1eb-7cdb53a25e52",
   "metadata": {},
   "outputs": [
    {
     "data": {
      "image/png": "[encoded data removed]",
      "text/plain": [
       "<Figure size 432x288 with 1 Axes>"
      ]
     },
     "metadata": {
      "needs_background": "light"
     },
     "output_type": "display_data"
    }
   ],
   "source": [
    "N = 6\n",
    "v = np.zeros(N, dtype=np.uint32)\n",
    "v[0:N//2+1] = 1\n",
    "w = np.zeros(N, dtype=np.uint32)\n",
    "w[1:N//2 + 2] = 1\n",
    "c = convolution(v, w)\n",
    "fig = plt.figure()\n",
    "ax = fig.gca()\n",
    "ax.plot(v, '.-')\n",
    "ax.plot(w, '.-')\n",
    "ax.plot(c, '.-')\n",
    "ax.legend([f'v={v}', f'w={w}', f'c={c.astype(np.uint32)}'], prop={'size': 12})\n",
    "ax.grid(True)"
   ]
  },
  {
   "cell_type": "markdown",
   "id": "58e43f77-1fc2-46a7-a0b0-643eec78414b",
   "metadata": {},
   "source": [
    "# 2. Fourier Transform"
   ]
  },
  {
   "cell_type": "markdown",
   "id": "73b79908-a7e9-4ee1-9cf4-cd871883a501",
   "metadata": {},
   "source": [
    "To go over the basics of the fourier transform, refer https://mathworld.wolfram.com/FourierTransform.html, though we show it's computation here.\n",
    "Defining the transform over vectors as $\\mathcal{F}: \\mathbb{R}^N \\to \\mathbb{R}^N$ satsifying:\n",
    "$$\\mathcal{F}^{-1}(\\mathcal{F}(\\mathbf v)) = v $$\n",
    "$$\\mathcal{F}(v * w) = \\mathcal{F}(v) \\cdot \\mathcal{F}(w)$$\n",
    "The above two equations imply that $$v * w = \\mathcal{F}^{-1}(\\mathcal{F}(v) \\cdot \\mathcal{F}(w))$$\n",
    "\n",
    "We construct the matrix $\\mathbf{U}$ such that $\\mathcal{F}(v) = \\mathbf{U}v$ and $\\mathcal{F}^{-1}(v) = \\dfrac{1}{N}\\mathbf{U}^Hv$ where $\\mathbf{U}^H$ is the Hermitian (i.e conjugate transpose) of $\\mathbf{U}$. <br>\n",
    "The elements of $\\mathbf{U}$ (0-indexed) are $\\mathbf{U}[i,j] = u_j(i)$ where $u_n(x) = e^{-\\iota 2 \\pi \\frac{n}{N}x}$"
   ]
  },
  {
   "cell_type": "code",
   "execution_count": 37,
   "id": "bbf5db7d-8c8b-4362-adfd-d4ae990b218f",
   "metadata": {},
   "outputs": [
    {
     "name": "stdout",
     "output_type": "stream",
     "text": [
      "[0.59691376 0.58322523 0.89621056 0.92752794 0.96754941 0.5162032 ]\n",
      "[0.68346913 0.2480897  0.53020287 0.92660617 0.12861476 0.85615805]\n",
      "[2.5230863  2.60352595 2.47057854 2.61337556 2.42571724 2.5011241 ]\n"
     ]
    }
   ],
   "source": [
    "v, w = np.random.rand(N), np.random.rand(N)\n",
    "c = convolution(v, w)\n",
    "print(v)\n",
    "print(w)\n",
    "print(c)"
   ]
  },
  {
   "cell_type": "code",
   "execution_count": 38,
   "id": "215d8cf3-9739-41a4-8351-d13b25c506e3",
   "metadata": {},
   "outputs": [
    {
     "name": "stdout",
     "output_type": "stream",
     "text": [
      "F(v) = [ 4.48763012-0.j         -0.71277994+0.00373848j  0.0428475 -0.11982404j\n",
      "  0.43371736-0.j          0.0428475 +0.11982404j -0.71277994-0.00373848j]\n",
      "\n",
      "F(w) = [ 3.37314068-0.j         -0.02042198+0.17881714j  0.72854261+0.87438814j\n",
      " -0.68856715-0.j          0.72854261-0.87438814j -0.02042198-0.17881714j]\n",
      "\n",
      "F(v)F(w) = [ 1.51374077e+01-0.j          1.38878728e-02-0.12753362j\n",
      "  1.35988947e-01-0.04983158j -2.98643528e-01+0.j\n",
      "  1.35988947e-01+0.04983158j  1.38878728e-02+0.12753362j]\n",
      "\n",
      "v * w = [2.5230863  2.60352595 2.47057854 2.61337556 2.42571724 2.5011241 ]\n"
     ]
    }
   ],
   "source": [
    "from scipy.fft import fft, ifft\n",
    "Fv = fft(v)\n",
    "Fw = fft(w)\n",
    "Fvw = Fv * Fw\n",
    "IFc = ifft(Fvw)\n",
    "print(f\"F(v) = {Fv}\\n\")\n",
    "print(f\"F(w) = {Fw}\\n\")\n",
    "print(f\"F(v)F(w) = {Fvw}\\n\")\n",
    "print(f\"v * w = {np.abs(IFc)}\")"
   ]
  },
  {
   "cell_type": "code",
   "execution_count": 39,
   "id": "3e4966a3-0a0e-4167-9fc7-98f6695cb486",
   "metadata": {},
   "outputs": [],
   "source": [
    "def get_U(N):\n",
    "    u = lambda n, N: np.cos(2 * np.pi * n / N * np.arange(N)) - 1j * np.sin(2 * np.pi * n / N * np.arange(N))\n",
    "    U = np.empty((N, 0))\n",
    "    for n in range(N):\n",
    "        U = np.c_[U, u(n, N)]\n",
    "    return U\n",
    "\n",
    "def FT(v):\n",
    "    N = v.shape[0]\n",
    "    U = get_U(N)\n",
    "    return U @ v\n",
    "\n",
    "def IFT(v):\n",
    "    N = v.shape[0]\n",
    "    U = get_U(N)\n",
    "    return (U.conj().transpose() @ v) / N"
   ]
  },
  {
   "cell_type": "code",
   "execution_count": 40,
   "id": "4220019c-8c96-48bc-ac9b-36d0cb4541b0",
   "metadata": {},
   "outputs": [
    {
     "name": "stdout",
     "output_type": "stream",
     "text": [
      "[ 4.48763012+0.00000000e+00j -0.71277994+3.73847820e-03j\n",
      "  0.0428475 -1.19824041e-01j  0.43371736-3.48052324e-17j\n",
      "  0.0428475 +1.19824041e-01j -0.71277994-3.73847820e-03j]\n"
     ]
    }
   ],
   "source": [
    "print(FT(v))"
   ]
  },
  {
   "cell_type": "code",
   "execution_count": 41,
   "id": "cac72757-bd9e-4030-b710-29462aba303d",
   "metadata": {},
   "outputs": [
    {
     "name": "stdout",
     "output_type": "stream",
     "text": [
      "[0.59691376-7.65591294e-16j 0.58322523+3.70074342e-17j\n",
      " 0.89621056-7.40148683e-17j 0.92752794+2.91433544e-16j\n",
      " 0.96754941+4.44089210e-16j 0.5162032 -3.51570624e-16j]\n"
     ]
    }
   ],
   "source": [
    "print(IFT(FT(v)))"
   ]
  },
  {
   "cell_type": "markdown",
   "id": "27b95bff-ff0a-491f-a5d2-1965264d4ce1",
   "metadata": {},
   "source": [
    "We can note that the functions $u_n(x)$ are the eigenvectors of the Laplacian, i.e\n",
    "$$\\Delta u_n(x) = -4\\pi^2 \\dfrac{n^2}{N^2}u_n(x) $$\n",
    "\n",
    "We can simplify the operation notation as follows:\n",
    "$$ v * w = \\mathbf{U}^H ((\\mathbf{U}w) \\odot (\\mathbf{U}v))$$\n",
    "Defining the filter $g_w = diag(\\mathbf{U}w)$, we can write\n",
    "$$ v * w = \\mathbf{U}^H g_w \\mathbf{U}v$$"
   ]
  },
  {
   "cell_type": "code",
   "execution_count": 44,
   "id": "3b9da8c8-f05a-4c14-bd87-e15ae71d77fc",
   "metadata": {},
   "outputs": [
    {
     "name": "stdout",
     "output_type": "stream",
     "text": [
      "[2.5230863  2.60352595 2.47057854 2.61337556 2.42571724 2.5011241 ]\n"
     ]
    },
    {
     "data": {
      "text/plain": [
       "array([2.5230863 , 2.60352595, 2.47057854, 2.61337556, 2.42571724,\n",
       "       2.5011241 ])"
      ]
     },
     "execution_count": 44,
     "metadata": {},
     "output_type": "execute_result"
    }
   ],
   "source": [
    "U = get_U(N)\n",
    "print(c)\n",
    "np.abs((U.conj().transpose() / N) @ ((U @ v) * (U @ w)))"
   ]
  },
  {
   "cell_type": "markdown",
   "id": "c2452994-3a6f-4321-b22b-78bcbff5c146",
   "metadata": {},
   "source": [
    "# 3. Convolution on Graphs"
   ]
  },
  {
   "cell_type": "markdown",
   "id": "01a6a100-fcc7-4acf-b057-bc0a5c1e936d",
   "metadata": {
    "tags": []
   },
   "source": [
    "Consider $G = (V, E)$ as an undirected, unweighted simple graph. For the graph-spectral theory we will look here, you can read the corresponding notes made by me @ [Graph-Representation-Learning](https://github.com/EeshaanJain/Graph-Neural-Nets/blob/main/Notes/Graph%20Representation%20Learning/main.pdf). Mainly, read section 2.4, though for completeness I will sum up theory here."
   ]
  },
  {
   "cell_type": "markdown",
   "id": "4f85d79d-d996-4c1c-abb5-04f9bb63aeaa",
   "metadata": {
    "tags": []
   },
   "source": [
    "## a. Graph Laplacian\n",
    "Let $\\mathbf{A}$ be the adjacency matrix of the graph $G$, i.e $A_{ij} = 1$ if $(i,j) \\in E$ else $A_{ij} = 0$. Define the degree matrix as $\\mathbf{D}$ which is a diagonal matrix having the degrees of node on the diagonal, i.e $D_{ii} = deg(i)$.<br>\n",
    "We define the unnormalized Laplacian as $$\\mathbf{L} = \\mathbf{D} - \\mathbf{A}$$ and the symmetric normalized laplacian as \n",
    "$$\\mathbf{L} = \\mathbf{I} - \\mathbf{D}^{-1/2}\\mathbf{A}\\mathbf{D}^{-1/2}$$"
   ]
  },
  {
   "cell_type": "markdown",
   "id": "91b9b1e4-43fe-4e5d-8e4d-c3d27b33cdbf",
   "metadata": {},
   "source": [
    "## b. Graph Spectrum, Fourier transform, Convolution\n",
    "The spectral decomposition of the Laplacian is given as $$\\mathbf{L} = \\mathbf{U}\\mathbf{\\Lambda}\\mathbf{U}^T$$\n",
    "Now, consider $v$ to be a feature vector of the graph, then $$\\mathcal{F}(v) = \\mathbf{U}v \\qquad \\qquad \\mathcal{F}^{-1}(v) = \\mathbf{U}^T v $$\n",
    "Now consider the filter $\\mathbf{U}w$. The convolution with this (considering $g_w = diag(\\mathbf{U}^T w)$) can be written as\n",
    "$$v * w = \\mathbf{U}((\\mathbf{U}^Tw) \\odot \\mathbf{U}^T v)) = \\mathbf{U}g_w \\mathbf{U^T}v$$ "
   ]
  },
  {
   "cell_type": "markdown",
   "id": "d1fa1f3f-3c24-4714-8bd8-d7fb063877aa",
   "metadata": {
    "tags": []
   },
   "source": [
    "# 4. Spectral-Convolutional Layers in PyTorch-Geometric"
   ]
  },
  {
   "cell_type": "markdown",
   "id": "4be1cdcc-24b1-48f3-96db-c293388184b0",
   "metadata": {},
   "source": [
    "Computation of spectrum is a global problem, and is expensive to calculate. We aim to implement the spectrum as message passing."
   ]
  },
  {
   "cell_type": "markdown",
   "id": "3c665299-f70f-4732-b26b-aee76ac95018",
   "metadata": {},
   "source": [
    "## a. ChebConv\n",
    "This was introduced in [Convolutional Neural Networks on Graphs\n",
    "with Fast Localized Spectral Filtering](https://arxiv.org/pdf/1606.09375.pdf). <br>\n",
    "We want to implement $\\mathbf{U} g_w \\mathbf{U}^T x$ with $g_w = g_w(\\mathbf{\\Lambda})$ a filter.\n",
    "\n",
    "**Chebyshev approximation** <br>\n",
    "Chebyshv polynomials $T_k$ have the recurrence relation defined as:\n",
    "$$ T_k(x) = 2xT_{k-1}(x) - T_{k-2}(x), \\quad T_0(x) = 1, T_1(x) = x $$\n",
    "For the filter, the following approximation exists:\n",
    "$$g_w(\\mathbf{\\Lambda}) = \\sum_{k=0}^K \\theta_k T_k(\\tilde{\\mathbf\\Lambda}) \\quad \\text{where} \\quad \\tilde{\\mathbf\\Lambda} = \\dfrac{2}{\\lambda_{\\max}} \\mathbf\\Lambda - \\lambda_{\\max}\\mathbf{I}$$\n",
    "Now, note that if $\\mathbf{L} = \\mathbf{U}\\mathbf{\\Lambda}\\mathbf{U}^T$, then $T_k(\\mathbf{L}) = \\mathbf{U}T_k(\\mathbf{\\Lambda})\\mathbf{U}^T$, and this property gives rise to the fast-approximated convolution:\n",
    "$$ \n",
    "\\begin{split}\n",
    "v * w &= \\mathbf{U} g_w \\mathbf{U}^T x = \\mathbf{U}\\bigg(\\sum_{k=0}^K \\theta_k T_k(\\tilde{\\mathbf\\Lambda}) \\bigg)\\mathbf{U}^T x \\\\\n",
    "&= \\sum_{k=0}^K \\theta_k \\mathbf{U}T_k(\\tilde{\\mathbf\\Lambda})\\mathbf{U}^T x \\\\\n",
    "&= \\sum_{k=0}^K \\theta_k T_k(\\tilde{\\mathbf L})x \\quad \\text{where} \\quad \\tilde{\\mathbf L} = \\dfrac{2}{\\lambda_\\max} \\mathbf{L} - \\mathbf{I}\n",
    "\\end{split}\n",
    "$$"
   ]
  },
  {
   "cell_type": "markdown",
   "id": "90405899-5cac-4a06-97bc-6e16e2cb944e",
   "metadata": {},
   "source": [
    "We notice that the equation doesn't depend on $\\mathbf U$ or $\\mathbf \\Lambda$ but only on $\\mathbf L$ and $\\lambda_\\max$. Also note that since we are using only $K$-powers, the filter takes in $K$-hop neighborhood of each node. <br>\n",
    "\n",
    "The source code for the implementation of ChebConv in PyG is given here: [ChebConv](https://pytorch-geometric.readthedocs.io/en/latest/_modules/torch_geometric/nn/conv/cheb_conv.html)"
   ]
  },
  {
   "cell_type": "markdown",
   "id": "b0ccc053-30c9-47fa-bca8-f158d074ab55",
   "metadata": {},
   "source": [
    "## b. GCNConv\n",
    "This was introduced in [Semi-Supervised Classification with Graph Convolutional Networks](https://arxiv.org/pdf/1609.02907.pdf). <br>\n",
    "We start with **ChebConv** and make the following assumptions:\n",
    "- $K = 1$, thus $$v * w = \\theta_0x + \\theta_1 \\tilde{\\mathbf L} x $$\n",
    "- $\\lambda_\\max = 2$, and so $\\mathbf{\\tilde L} = \\mathbf L - \\mathbf I \\implies$\n",
    " $$v * w = \\theta_0x + \\theta_1 (\\mathbf{L} - \\mathbf{I})x = \\theta_0x - \\theta_1 \\mathbf{D}^{-1/2}\\mathbf{A}\\mathbf{D}^{-1/2} x$$\n",
    "- $\\theta_0 = -\\theta_1 = \\theta$, and thus $$v * w = (I + \\mathbf{D}^{-1/2}\\mathbf{A}\\mathbf{D}^{-1/2})x\\theta$$\n",
    "- Renormalize $\\theta$ using $$ \\begin{split} \n",
    "\\tilde{\\mathbf A} &= \\mathbf{I} + \\mathbf{A} \\\\\n",
    "\\tilde{\\mathbf D}_u &= \\sum_j \\tilde{A}_{ij} \\\\\n",
    "\\implies v * w &= (\\mathbf{D}^{-1/2}\\mathbf{A}\\mathbf{D}^{-1/2})x\\theta\n",
    "\\end{split}$$\n",
    "If our $x$ is $F$-dimensional, and we want $F'$-dimensional output, then $\\mathbf{\\Theta'} \\in \\mathbb{R}^{F \\times F'}$ and\n",
    "$$ v * w = (\\mathbf{D}^{-1/2}\\mathbf{A}\\mathbf{D}^{-1/2})x\\mathbf\\Theta $$\n",
    "\n",
    "If we want a nodewise formulation, it is given as\n",
    "$$ x_i' = \\Theta \\sum_{j \\in \\mathcal{N}(v) \\cup \\{i\\}} \\dfrac{e_{j,i}}{\\sqrt{\\hat{d}_j \\hat{d}_i}} x_j $$ where $\\hat{d}_i = 1 + \\sum_{j \\in \\mathcal{N}(i)} e_{j, i}$ where $e_{j, i}$ denotes the edge weight for the edge from $j \\to i$."
   ]
  },
  {
   "cell_type": "code",
   "execution_count": null,
   "id": "fb7aa5cc-eb8f-41d1-b4e3-b8e0dddaca3e",
   "metadata": {},
   "outputs": [],
   "source": []
  }
 ],
 "metadata": {
  "kernelspec": {
   "display_name": "Python 3 (ipykernel)",
   "language": "python",
   "name": "python3"
  },
  "language_info": {
   "codemirror_mode": {
    "name": "ipython",
    "version": 3
   },
   "file_extension": ".py",
   "mimetype": "text/x-python",
   "name": "python",
   "nbconvert_exporter": "python",
   "pygments_lexer": "ipython3",
   "version": "3.9.9"
  }
 },
 "nbformat": 4,
 "nbformat_minor": 5
}
